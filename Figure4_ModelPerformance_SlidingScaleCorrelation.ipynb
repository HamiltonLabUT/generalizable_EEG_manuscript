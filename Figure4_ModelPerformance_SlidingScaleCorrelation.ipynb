{
 "cells": [
  {
   "cell_type": "code",
   "execution_count": 1,
   "metadata": {},
   "outputs": [
    {
     "name": "stderr",
     "output_type": "stream",
     "text": [
      "/Users/maansidesai/anaconda3/envs/mne/lib/python3.6/site-packages/outdated/utils.py:18: OutdatedPackageWarning: The package pingouin is out of date. Your version is 0.3.8, the latest is 0.3.10.\n",
      "Set the environment variable OUTDATED_IGNORE=1 to disable these warnings.\n",
      "  **kwargs\n"
     ]
    }
   ],
   "source": [
    "# Set up the notebook, import the libraries we need\n",
    "\n",
    "%matplotlib inline\n",
    "%config InlineBackend.figure_format = 'retina'\n",
    "\n",
    " \n",
    "from run_STRF_analysis import *"
   ]
  },
  {
   "cell_type": "code",
   "execution_count": 2,
   "metadata": {},
   "outputs": [],
   "source": [
    "#Define path\n",
    "#data_dir='/Users/md42732/Desktop/data/EEG/MovieTrailers/Participants/' #load data\n",
    "user = 'maansidesai'\n",
    "data_dir = '/Users/%s/Box/MovieTrailersTask/Data/EEG/Participants' %(user)\n",
    "save_dir='/Users/%s/Box/MovieTrailersTask/Data/EEG/Paper_Submission/' %(user)#save figures\n",
    "\n",
    "grid_dir = '/Users/%s/Box/MovieTrailersTask/Data/TextGrids/' %(user)"
   ]
  },
  {
   "cell_type": "markdown",
   "metadata": {},
   "source": [
    "## The noisy speech condition (MovieTrailers) model performance is generally worse compared to the clean speech condition (TIMIT). This could be due to the fact that the trailers are a naturalistic, uncontrolled, noisy stimuli with multiple speakers, overlapping speakers, background noise, and music.\n",
    "\n",
    "### The following code seeks to investigate the number of repetitions in the test set to identify how the average correlation improves across an increasing number of averaged test set stimuli\n",
    "\n",
    "### The code also implements a sliding scale correlation for the movie trailers to identify if there are certain timings which contain speech alone, speech with background noise, or background noise alone, to ultimately investigate if these specific times improve the correlation value to the values being recorded from the TIMIT condition"
   ]
  },
  {
   "cell_type": "markdown",
   "metadata": {},
   "source": [
    "### Create .h5 file for TIMIT for amount of testing data for 10 reps"
   ]
  },
  {
   "cell_type": "code",
   "execution_count": null,
   "metadata": {},
   "outputs": [],
   "source": [
    "num_of_stim_reps('MT0002','TIMIT', data_dir, save_dir, save_fig=True)"
   ]
  },
  {
   "cell_type": "markdown",
   "metadata": {},
   "source": [
    "### Create .h5 file for Movie Trailers for amount of testing data for 10 reps"
   ]
  },
  {
   "cell_type": "code",
   "execution_count": null,
   "metadata": {},
   "outputs": [],
   "source": [
    "num_of_stim_reps('MT0020','MovieTrailers', data_dir, save_dir, save_fig=True)"
   ]
  },
  {
   "cell_type": "markdown",
   "metadata": {},
   "source": [
    "### Fig. 4A TIMIT: Number of reps vs. average test correlation (r) - MT0002"
   ]
  },
  {
   "cell_type": "code",
   "execution_count": null,
   "metadata": {},
   "outputs": [],
   "source": [
    "plot_test_set_reps(data_dir, save_dir, 'TIMIT', subject='MT0002')"
   ]
  },
  {
   "cell_type": "markdown",
   "metadata": {},
   "source": [
    "### Fig. 4B/C Movie Trailers: Number of reps vs. average test correlation (r) - MT0020"
   ]
  },
  {
   "cell_type": "code",
   "execution_count": null,
   "metadata": {},
   "outputs": [],
   "source": [
    "plot_test_set_reps(data_dir, save_dir, 'MT', subject='MT0020')"
   ]
  },
  {
   "cell_type": "markdown",
   "metadata": {},
   "source": [
    "### Fig. 4D (Segmented Analysis for Movie trailers using Inside Out)"
   ]
  },
  {
   "cell_type": "code",
   "execution_count": 8,
   "metadata": {},
   "outputs": [
    {
     "name": "stdout",
     "output_type": "stream",
     "text": [
      "17427\n",
      "Plotting markers for where speech, music, and background sounds occur over the movie trailer specified: \n"
     ]
    },
    {
     "data": {
      "image/png": "[encoded data removed]",
      "text/plain": [
       "<Figure size 432x288 with 1 Axes>"
      ]
     },
     "metadata": {
      "image/png": {
       "height": 252,
       "width": 380
      }
     },
     "output_type": "display_data"
    }
   ],
   "source": [
    "grid_name = 'insideout-tlr2zzyy32_a720p_corrected.TextGrid'\n",
    "# grid_name = 'paddington-2-trailer-1_a720p_corrected_spmubg.TextGrid'\n",
    "ntimes = 17364\n",
    "#ntimes = 17427\n",
    "print(ntimes)\n",
    "clean_vs_noisy_speech = speech_nonspeech_tier_alignment_slidingCorr(grid_dir, grid_name, ntimes)"
   ]
  },
  {
   "cell_type": "markdown",
   "metadata": {},
   "source": [
    "### Fig. 4D - Barplot of Segmented Analysis for InsideOut"
   ]
  },
  {
   "cell_type": "code",
   "execution_count": null,
   "metadata": {},
   "outputs": [],
   "source": [
    "#For Inside Out, the subject_list will exclude MT0001 because this subject did not listen to this specific trailer.\n",
    "#For paddington, add MT0001 back into the subject_list variable\n",
    "subject_list = ['MT0002', 'MT0003', 'MT0004', 'MT0005', 'MT0006', 'MT0008', 'MT0009', 'MT0010', 'MT0011', \n",
    "                'MT0012', 'MT0013', 'MT0014', 'MT0015', 'MT0016', 'MT0017']"
   ]
  },
  {
   "cell_type": "code",
   "execution_count": null,
   "metadata": {},
   "outputs": [],
   "source": [
    "auditory_environment_trailers_correlation(grid_dir, subject_list, data_dir, save_dir, \n",
    "                                          grid_name = 'insideout-tlr2zzyy32_a720p_corrected.TextGrid', \n",
    "                                          ts='insideout-tlr2zzyy32_a720p.wav', ntimes=17364)"
   ]
  }
 ],
 "metadata": {
  "kernelspec": {
   "display_name": "Python 3",
   "language": "python",
   "name": "python3"
  },
  "language_info": {
   "codemirror_mode": {
    "name": "ipython",
    "version": 3
   },
   "file_extension": ".py",
   "mimetype": "text/x-python",
   "name": "python",
   "nbconvert_exporter": "python",
   "pygments_lexer": "ipython3",
   "version": "3.9.4"
  }
 },
 "nbformat": 4,
 "nbformat_minor": 2
}
