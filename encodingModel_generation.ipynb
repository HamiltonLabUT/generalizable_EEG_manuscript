{
 "cells": [
  {
   "cell_type": "code",
   "execution_count": 5,
   "metadata": {},
   "outputs": [
    {
     "name": "stderr",
     "output_type": "stream",
     "text": [
      "/anaconda3/envs/mne/lib/python3.6/site-packages/outdated/utils.py:18: OutdatedPackageWarning: The package outdated is out of date. Your version is 0.2.0, the latest is 0.2.1.\n",
      "Set the environment variable OUTDATED_IGNORE=1 to disable these warnings.\n",
      "  **kwargs\n",
      "/anaconda3/envs/mne/lib/python3.6/site-packages/outdated/utils.py:18: OutdatedPackageWarning: The package pingouin is out of date. Your version is 0.3.3, the latest is 0.3.12.\n",
      "Set the environment variable OUTDATED_IGNORE=1 to disable these warnings.\n",
      "  **kwargs\n"
     ]
    }
   ],
   "source": [
    "from run_STRF_analysis import *\n",
    "%matplotlib inline\n",
    "%config InlineBackend.figure_format = 'retina'\n"
   ]
  },
  {
   "cell_type": "code",
   "execution_count": 15,
   "metadata": {},
   "outputs": [],
   "source": [
    "user = 'md42732'\n",
    "data_dir='/Users/%s/Box/generalizable_EEG_manuscript/data' %(user) #where the giant .h5 file lives (fullEEGmatrix.h5)\n",
    "# data_dir = os.path.join('../data')\n",
    "\n",
    "subject_list = create_subject_list(data_dir+'/participants') #create subject list of all participant folders (MT0001-MT0017)"
   ]
  },
  {
   "cell_type": "code",
   "execution_count": 17,
   "metadata": {},
   "outputs": [],
   "source": [
    "stimulus_class = ['MovieTrailers', 'TIMIT']"
   ]
  },
  {
   "cell_type": "markdown",
   "metadata": {},
   "source": [
    "# The next many cells below will fit an encoding model using the specified auditory and/or visual features either as a combination, in pairwise models, or individual models\n",
    "\n",
    "## To run the desired cell, simply click on the cell and push command + shift \n",
    "## To run all cells in this notebook, click \"Run\" at the top of this page in toolbar"
   ]
  },
  {
   "cell_type": "markdown",
   "metadata": {},
   "source": [
    "### Fitting \"full models\" which essentially are the largest combinations of auditory features or auditory + visual features\n",
    "(The first number of cells use the following features for the main manuscript: F0, envelope, 14 phonological features, 10 gabor wavelet filters, scene cut. See below for models used in the Extended Data section of the manuscript)"
   ]
  },
  {
   "cell_type": "markdown",
   "metadata": {},
   "source": [
    "### Full Models: audiovisual model and auditory model\n",
    "This includes: pitch (F0), acoustic envelope, 14 phonological features as the acoustic features, and 10 gabor wavelet filters + 1 scene cut as the visual features"
   ]
  },
  {
   "cell_type": "code",
   "execution_count": null,
   "metadata": {},
   "outputs": [],
   "source": [
    "for i in stimulus_class:\n",
    "    for idx, ii in enumerate(subject_list):\n",
    "        print(i)\n",
    "        print(ii)\n",
    "        wt, corrs, valphas, allRcorrs, all_corrs_shuff = strf_features(ii, i, data_dir, full_gabor = False, full_audio_spec = False, \n",
    "            full_model = False, pitchUenvs = False, pitchUphnfeat = False, envsUphnfeat = False, phnfeat_only = False, envs_only = False, \n",
    "            pitch_only = False, gabor_only = False, spec = False, pitchphnfeatspec = False, binned_pitch_full_audio = False, binned_pitch_envs=False, \n",
    "            binned_pitch_phnfeat=False, binned_pitch_full_audiovisual=False, binned_pitch_only=False, pitchUspec=False, phnfeatUspec=False, \n",
    "            spec_scaled=False, pitchphnfeatspec_scaled=False, scene_cut=False, scene_cut_gaborpc=False, audiovisual_gabor_sc=False,\n",
    "            binned_pitch_spec_phnfeat=False, spec_binned_pitch=False, full_gabor_sc=True)"
   ]
  },
  {
   "cell_type": "markdown",
   "metadata": {},
   "source": [
    "Full: auditory model\n",
    "This includes: pitch (F0), acoustic envelope, 14 phonological features "
   ]
  },
  {
   "cell_type": "code",
   "execution_count": null,
   "metadata": {},
   "outputs": [],
   "source": [
    "for i in stimulus_class:\n",
    "    for idx, ii in enumerate(subject_list):\n",
    "        print(i)\n",
    "        print(ii)\n",
    "        wt, corrs, valphas, allRcorrs, all_corrs_shuff = strf_features(ii, i, data_dir, full_gabor = False, full_audio_spec = False, \n",
    "            full_model = True, pitchUenvs = False, pitchUphnfeat = False, envsUphnfeat = False, phnfeat_only = False, envs_only = False, \n",
    "            pitch_only = False, gabor_only = False, spec = False, pitchphnfeatspec = False, binned_pitch_full_audio = False, binned_pitch_envs=False, \n",
    "            binned_pitch_phnfeat=False, binned_pitch_full_audiovisual=False, binned_pitch_only=False, pitchUspec=False, phnfeatUspec=False, \n",
    "            spec_scaled=False, pitchphnfeatspec_scaled=False, scene_cut=False, scene_cut_gaborpc=False, audiovisual_gabor_sc=False,\n",
    "            binned_pitch_spec_phnfeat=False, spec_binned_pitch=False, full_gabor_sc=False)"
   ]
  },
  {
   "cell_type": "markdown",
   "metadata": {},
   "source": [
    "### Pairwise models...\n",
    "\n",
    "First, pitch + acoustic envelope"
   ]
  },
  {
   "cell_type": "code",
   "execution_count": null,
   "metadata": {},
   "outputs": [],
   "source": [
    "for i in stimulus_class:\n",
    "    for idx, ii in enumerate(subject_list):\n",
    "        print(i)\n",
    "        print(ii)\n",
    "        wt, corrs, valphas, allRcorrs, all_corrs_shuff = strf_features(ii, i, data_dir, full_gabor = False, full_audio_spec = False, \n",
    "            full_model = False, pitchUenvs = True, pitchUphnfeat = False, envsUphnfeat = False, phnfeat_only = False, envs_only = False, \n",
    "            pitch_only = False, gabor_only = False, spec = False, pitchphnfeatspec = False, binned_pitch_full_audio = False, binned_pitch_envs=False, \n",
    "            binned_pitch_phnfeat=False, binned_pitch_full_audiovisual=False, binned_pitch_only=False, pitchUspec=False, phnfeatUspec=False, \n",
    "            spec_scaled=False, pitchphnfeatspec_scaled=False, scene_cut=False, scene_cut_gaborpc=False, audiovisual_gabor_sc=False,\n",
    "            binned_pitch_spec_phnfeat=False, spec_binned_pitch=False, full_gabor_sc=False)"
   ]
  },
  {
   "cell_type": "markdown",
   "metadata": {},
   "source": [
    "Pitch + phonological features"
   ]
  },
  {
   "cell_type": "code",
   "execution_count": null,
   "metadata": {},
   "outputs": [],
   "source": [
    "for i in stimulus_class:\n",
    "    for idx, ii in enumerate(subject_list):\n",
    "        print(i)\n",
    "        print(ii)\n",
    "        wt, corrs, valphas, allRcorrs, all_corrs_shuff = strf_features(ii, i, data_dir, full_gabor = False, full_audio_spec = False, \n",
    "            full_model = False, pitchUenvs = False, pitchUphnfeat = True, envsUphnfeat = False, phnfeat_only = False, envs_only = False, \n",
    "            pitch_only = False, gabor_only = False, spec = False, pitchphnfeatspec = False, binned_pitch_full_audio = False, binned_pitch_envs=False, \n",
    "            binned_pitch_phnfeat=False, binned_pitch_full_audiovisual=False, binned_pitch_only=False, pitchUspec=False, phnfeatUspec=False, \n",
    "            spec_scaled=False, pitchphnfeatspec_scaled=False, scene_cut=False, scene_cut_gaborpc=False, audiovisual_gabor_sc=False,\n",
    "            binned_pitch_spec_phnfeat=False, spec_binned_pitch=False, full_gabor_sc=False)"
   ]
  },
  {
   "cell_type": "markdown",
   "metadata": {},
   "source": [
    "Acoustic envelope + phonological features"
   ]
  },
  {
   "cell_type": "code",
   "execution_count": null,
   "metadata": {},
   "outputs": [],
   "source": [
    "for i in stimulus_class:\n",
    "    for idx, ii in enumerate(subject_list):\n",
    "        print(i)\n",
    "        print(ii)\n",
    "        wt, corrs, valphas, allRcorrs, all_corrs_shuff = strf_features(ii, i, data_dir, full_gabor = False, full_audio_spec = False, \n",
    "            full_model = False, pitchUenvs = False, pitchUphnfeat = False, envsUphnfeat = True, phnfeat_only = False, envs_only = False, \n",
    "            pitch_only = False, gabor_only = False, spec = False, pitchphnfeatspec = False, binned_pitch_full_audio = False, binned_pitch_envs=False, \n",
    "            binned_pitch_phnfeat=False, binned_pitch_full_audiovisual=False, binned_pitch_only=False, pitchUspec=False, phnfeatUspec=False, \n",
    "            spec_scaled=False, pitchphnfeatspec_scaled=False, scene_cut=False, scene_cut_gaborpc=False, audiovisual_gabor_sc=False,\n",
    "            binned_pitch_spec_phnfeat=False, spec_binned_pitch=False, full_gabor_sc=False)"
   ]
  },
  {
   "cell_type": "markdown",
   "metadata": {},
   "source": [
    "Scene Cuts + Gabor wavelet filters"
   ]
  },
  {
   "cell_type": "code",
   "execution_count": null,
   "metadata": {},
   "outputs": [],
   "source": [
    "for i in stimulus_class:\n",
    "    for idx, ii in enumerate(subject_list):\n",
    "        print(i)\n",
    "        print(ii)\n",
    "        wt, corrs, valphas, allRcorrs, all_corrs_shuff = strf_features(ii, i, data_dir, full_gabor = False, full_audio_spec = False, \n",
    "            full_model = False, pitchUenvs = False, pitchUphnfeat = False, envsUphnfeat = False, phnfeat_only = False, envs_only = False, \n",
    "            pitch_only = False, gabor_only = False, spec = False, pitchphnfeatspec = False, binned_pitch_full_audio = False, binned_pitch_envs=False, \n",
    "            binned_pitch_phnfeat=False, binned_pitch_full_audiovisual=False, binned_pitch_only=False, pitchUspec=False, phnfeatUspec=False, \n",
    "            spec_scaled=False, pitchphnfeatspec_scaled=False, scene_cut=False, scene_cut_gaborpc=True, audiovisual_gabor_sc=False,\n",
    "            binned_pitch_spec_phnfeat=False, spec_binned_pitch=False, full_gabor_sc=False)"
   ]
  },
  {
   "cell_type": "markdown",
   "metadata": {},
   "source": [
    "### Individual feature (auditory or visual) models"
   ]
  },
  {
   "cell_type": "markdown",
   "metadata": {},
   "source": [
    "Phonological Features"
   ]
  },
  {
   "cell_type": "code",
   "execution_count": null,
   "metadata": {},
   "outputs": [],
   "source": [
    "for i in stimulus_class:\n",
    "    for idx, ii in enumerate(subject_list):\n",
    "        print(i)\n",
    "        print(ii)\n",
    "        wt, corrs, valphas, allRcorrs, all_corrs_shuff = strf_features(ii, i, data_dir, full_gabor = False, full_audio_spec = False, \n",
    "            full_model = False, pitchUenvs = False, pitchUphnfeat = False, envsUphnfeat = False, phnfeat_only = True, envs_only = False, \n",
    "            pitch_only = False, gabor_only = False, spec = False, pitchphnfeatspec = False, binned_pitch_full_audio = False, binned_pitch_envs=False, \n",
    "            binned_pitch_phnfeat=False, binned_pitch_full_audiovisual=False, binned_pitch_only=False, pitchUspec=False, phnfeatUspec=False, \n",
    "            spec_scaled=False, pitchphnfeatspec_scaled=False, scene_cut=False, scene_cut_gaborpc=False, audiovisual_gabor_sc=False,\n",
    "            binned_pitch_spec_phnfeat=False, spec_binned_pitch=False, full_gabor_sc=False)"
   ]
  },
  {
   "cell_type": "markdown",
   "metadata": {},
   "source": [
    "Acoustic Envelope"
   ]
  },
  {
   "cell_type": "code",
   "execution_count": null,
   "metadata": {},
   "outputs": [],
   "source": [
    "for i in stimulus_class:\n",
    "    for idx, ii in enumerate(subject_list):\n",
    "        print(i)\n",
    "        print(ii)\n",
    "        wt, corrs, valphas, allRcorrs, all_corrs_shuff = strf_features(ii, i, data_dir, full_gabor = False, full_audio_spec = False, \n",
    "            full_model = False, pitchUenvs = False, pitchUphnfeat = False, envsUphnfeat = False, phnfeat_only = False, envs_only = True, \n",
    "            pitch_only = False, gabor_only = False, spec = False, pitchphnfeatspec = False, binned_pitch_full_audio = False, binned_pitch_envs=False, \n",
    "            binned_pitch_phnfeat=False, binned_pitch_full_audiovisual=False, binned_pitch_only=False, pitchUspec=False, phnfeatUspec=False, \n",
    "            spec_scaled=False, pitchphnfeatspec_scaled=False, scene_cut=False, scene_cut_gaborpc=False, audiovisual_gabor_sc=False,\n",
    "            binned_pitch_spec_phnfeat=False, spec_binned_pitch=False, full_gabor_sc=False)"
   ]
  },
  {
   "cell_type": "markdown",
   "metadata": {},
   "source": [
    "Pitch (F0)"
   ]
  },
  {
   "cell_type": "code",
   "execution_count": null,
   "metadata": {},
   "outputs": [],
   "source": [
    "for i in stimulus_class:\n",
    "    for idx, ii in enumerate(subject_list):\n",
    "        print(i)\n",
    "        print(ii)\n",
    "        wt, corrs, valphas, allRcorrs, all_corrs_shuff = strf_features(ii, i, data_dir, full_gabor = False, full_audio_spec = False, \n",
    "            full_model = False, pitchUenvs = False, pitchUphnfeat = False, envsUphnfeat = False, phnfeat_only = True, envs_only = False, \n",
    "            pitch_only = True, gabor_only = False, spec = False, pitchphnfeatspec = False, binned_pitch_full_audio = False, binned_pitch_envs=False, \n",
    "            binned_pitch_phnfeat=False, binned_pitch_full_audiovisual=False, binned_pitch_only=False, pitchUspec=False, phnfeatUspec=False, \n",
    "            spec_scaled=False, pitchphnfeatspec_scaled=False, scene_cut=False, scene_cut_gaborpc=False, audiovisual_gabor_sc=False,\n",
    "            binned_pitch_spec_phnfeat=False, spec_binned_pitch=False, full_gabor_sc=False)"
   ]
  },
  {
   "cell_type": "markdown",
   "metadata": {},
   "source": [
    "Gabor only"
   ]
  },
  {
   "cell_type": "code",
   "execution_count": null,
   "metadata": {},
   "outputs": [],
   "source": [
    "for i in stimulus_class:\n",
    "    for idx, ii in enumerate(subject_list):\n",
    "        print(i)\n",
    "        print(ii)\n",
    "        wt, corrs, valphas, allRcorrs, all_corrs_shuff = strf_features(ii, i, data_dir, full_gabor = False, full_audio_spec = False, \n",
    "            full_model = False, pitchUenvs = False, pitchUphnfeat = False, envsUphnfeat = False, phnfeat_only = False, envs_only = False, \n",
    "            pitch_only = False, gabor_only = True, spec = False, pitchphnfeatspec = False, binned_pitch_full_audio = False, binned_pitch_envs=False, \n",
    "            binned_pitch_phnfeat=False, binned_pitch_full_audiovisual=False, binned_pitch_only=False, pitchUspec=False, phnfeatUspec=False, \n",
    "            spec_scaled=False, pitchphnfeatspec_scaled=False, scene_cut=False, scene_cut_gaborpc=False, audiovisual_gabor_sc=False,\n",
    "            binned_pitch_spec_phnfeat=False, spec_binned_pitch=False, full_gabor_sc=False)"
   ]
  },
  {
   "cell_type": "markdown",
   "metadata": {},
   "source": [
    "Scene Cut"
   ]
  },
  {
   "cell_type": "code",
   "execution_count": null,
   "metadata": {},
   "outputs": [],
   "source": [
    "for i in stimulus_class:\n",
    "    for idx, ii in enumerate(subject_list):\n",
    "        print(i)\n",
    "        print(ii)\n",
    "        wt, corrs, valphas, allRcorrs, all_corrs_shuff = strf_features(ii, i, data_dir, full_gabor = False, full_audio_spec = False, \n",
    "            full_model = False, pitchUenvs = False, pitchUphnfeat = False, envsUphnfeat = False, phnfeat_only = alse, envs_only = False, \n",
    "            pitch_only = False, gabor_only = False, spec = False, pitchphnfeatspec = False, binned_pitch_full_audio = False, binned_pitch_envs=False, \n",
    "            binned_pitch_phnfeat=False, binned_pitch_full_audiovisual=False, binned_pitch_only=False, pitchUspec=False, phnfeatUspec=False, \n",
    "            spec_scaled=False, pitchphnfeatspec_scaled=False, scene_cut=True, scene_cut_gaborpc=False, audiovisual_gabor_sc=False,\n",
    "            binned_pitch_spec_phnfeat=False, spec_binned_pitch=False, full_gabor_sc=False)"
   ]
  },
  {
   "cell_type": "markdown",
   "metadata": {},
   "source": [
    "## Extended Data Models "
   ]
  },
  {
   "cell_type": "markdown",
   "metadata": {},
   "source": [
    "### Full: auditory model "
   ]
  },
  {
   "cell_type": "markdown",
   "metadata": {},
   "source": [
    "This includes: pitch (F0), 14 phonological features, and 15 spectrogram features"
   ]
  },
  {
   "cell_type": "code",
   "execution_count": null,
   "metadata": {},
   "outputs": [],
   "source": [
    "for i in stimulus_class:\n",
    "    for idx, ii in enumerate(subject_list):\n",
    "        print(i)\n",
    "        print(ii)\n",
    "        wt, corrs, valphas, allRcorrs, all_corrs_shuff = strf_features(ii, i, data_dir, full_gabor = False, full_audio_spec = True, \n",
    "            full_model = False, pitchUenvs = False, pitchUphnfeat = False, envsUphnfeat = False, phnfeat_only = False, envs_only = False, \n",
    "            pitch_only = False, gabor_only = False, spec = False, pitchphnfeatspec = False, binned_pitch_full_audio = False, binned_pitch_envs=False, \n",
    "            binned_pitch_phnfeat=False, binned_pitch_full_audiovisual=False, binned_pitch_only=False, pitchUspec=False, phnfeatUspec=False, \n",
    "            spec_scaled=False, pitchphnfeatspec_scaled=False, scene_cut=False, scene_cut_gaborpc=False, audiovisual_gabor_sc=False,\n",
    "            binned_pitch_spec_phnfeat=False, spec_binned_pitch=False, full_gabor_sc=False)"
   ]
  },
  {
   "cell_type": "markdown",
   "metadata": {},
   "source": [
    "### Pairwise models "
   ]
  },
  {
   "cell_type": "markdown",
   "metadata": {},
   "source": [
    "Phonological features + Spectrogram"
   ]
  },
  {
   "cell_type": "code",
   "execution_count": null,
   "metadata": {},
   "outputs": [],
   "source": [
    "for i in stimulus_class:\n",
    "    for idx, ii in enumerate(subject_list):\n",
    "        print(i)\n",
    "        print(ii)\n",
    "        wt, corrs, valphas, allRcorrs, all_corrs_shuff = strf_features(ii, i, data_dir, full_gabor = False, full_audio_spec = False, \n",
    "            full_model = False, pitchUenvs = False, pitchUphnfeat = False, envsUphnfeat = False, phnfeat_only = False, envs_only = False, \n",
    "            pitch_only = False, gabor_only = False, spec = False, pitchphnfeatspec = False, binned_pitch_full_audio = False, binned_pitch_envs=False, \n",
    "            binned_pitch_phnfeat=False, binned_pitch_full_audiovisual=False, binned_pitch_only=False, pitchUspec=False, phnfeatUspec=True, \n",
    "            spec_scaled=False, pitchphnfeatspec_scaled=False, scene_cut=False, scene_cut_gaborpc=False, audiovisual_gabor_sc=False,\n",
    "            binned_pitch_spec_phnfeat=False, spec_binned_pitch=False, full_gabor_sc=False)"
   ]
  },
  {
   "cell_type": "markdown",
   "metadata": {},
   "source": [
    "Pitch (F0) + Spectrogram"
   ]
  },
  {
   "cell_type": "code",
   "execution_count": null,
   "metadata": {},
   "outputs": [],
   "source": [
    "for i in stimulus_class:\n",
    "    for idx, ii in enumerate(subject_list):\n",
    "        print(i)\n",
    "        print(ii)\n",
    "        wt, corrs, valphas, allRcorrs, all_corrs_shuff = strf_features(ii, i, data_dir, full_gabor = False, full_audio_spec = False, \n",
    "            full_model = False, pitchUenvs = False, pitchUphnfeat = False, envsUphnfeat = False, phnfeat_only = False, envs_only = False, \n",
    "            pitch_only = False, gabor_only = False, spec = False, pitchphnfeatspec = False, binned_pitch_full_audio = False, binned_pitch_envs=False, \n",
    "            binned_pitch_phnfeat=False, binned_pitch_full_audiovisual=False, binned_pitch_only=False, pitchUspec=True, phnfeatUspec=False, \n",
    "            spec_scaled=False, pitchphnfeatspec_scaled=False, scene_cut=False, scene_cut_gaborpc=False, audiovisual_gabor_sc=False,\n",
    "            binned_pitch_spec_phnfeat=False, spec_binned_pitch=False, full_gabor_sc=False)"
   ]
  },
  {
   "cell_type": "markdown",
   "metadata": {},
   "source": [
    "### Individual Model"
   ]
  },
  {
   "cell_type": "markdown",
   "metadata": {},
   "source": [
    "Spectrogram only"
   ]
  },
  {
   "cell_type": "code",
   "execution_count": null,
   "metadata": {},
   "outputs": [],
   "source": [
    "for i in stimulus_class:\n",
    "    for idx, ii in enumerate(subject_list):\n",
    "        print(i)\n",
    "        print(ii)\n",
    "        wt, corrs, valphas, allRcorrs, all_corrs_shuff = strf_features(ii, i, data_dir, full_gabor = False, full_audio_spec = False, \n",
    "            full_model = False, pitchUenvs = False, pitchUphnfeat = False, envsUphnfeat = False, phnfeat_only = False, envs_only = False, \n",
    "            pitch_only = False, gabor_only = False, spec = True, pitchphnfeatspec = False, binned_pitch_full_audio = False, binned_pitch_envs=False, \n",
    "            binned_pitch_phnfeat=False, binned_pitch_full_audiovisual=False, binned_pitch_only=False, pitchUspec=False, phnfeatUspec=False, \n",
    "            spec_scaled=False, pitchphnfeatspec_scaled=False, scene_cut=False, scene_cut_gaborpc=False, audiovisual_gabor_sc=False,\n",
    "            binned_pitch_spec_phnfeat=False, spec_binned_pitch=False, full_gabor_sc=False)"
   ]
  },
  {
   "cell_type": "markdown",
   "metadata": {},
   "source": [
    "## As a part of the manuscript, for both the main figures as well as the extended data figures, we used a single pitch feature (absolute pitch or F0). However, we also fit models on **binned representations of the pitch** by extracting 10 log-spaced bins from 50 to 300Hz. Ultimately, we used the F0 pitch feature as a regressor to our encoding models instead of the binned pitch because we found that the single feature yielded higher correlation values. However, as a part of this code, you can also run the cells to extract the binned features as an individual features, for pairwise features, as well as full auditory or audiovisual models"
   ]
  },
  {
   "cell_type": "markdown",
   "metadata": {},
   "source": [
    "### Full auditory model using 10 binned pitch features"
   ]
  },
  {
   "cell_type": "markdown",
   "metadata": {},
   "source": [
    "10 binned pitches + acoustic envelope + 14 phonological features"
   ]
  },
  {
   "cell_type": "code",
   "execution_count": null,
   "metadata": {},
   "outputs": [],
   "source": [
    "for i in stimulus_class:\n",
    "    for idx, ii in enumerate(subject_list):\n",
    "        print(i)\n",
    "        print(ii)\n",
    "        wt, corrs, valphas, allRcorrs, all_corrs_shuff = strf_features(ii, i, data_dir, full_gabor = False, full_audio_spec = False, \n",
    "            full_model = False, pitchUenvs = False, pitchUphnfeat = False, envsUphnfeat = False, phnfeat_only = False, envs_only = False, \n",
    "            pitch_only = False, gabor_only = False, spec = False, pitchphnfeatspec = False, binned_pitch_full_audio = True, binned_pitch_envs=False, \n",
    "            binned_pitch_phnfeat=False, binned_pitch_full_audiovisual=False, binned_pitch_only=False, pitchUspec=False, phnfeatUspec=False, \n",
    "            spec_scaled=False, pitchphnfeatspec_scaled=False, scene_cut=False, scene_cut_gaborpc=False, audiovisual_gabor_sc=False,\n",
    "            binned_pitch_spec_phnfeat=False, spec_binned_pitch=False, full_gabor_sc=False)"
   ]
  },
  {
   "cell_type": "markdown",
   "metadata": {},
   "source": [
    "10 binned pitches + acoustic envelope + 14 phonological features + 10 gabor wavelets + scene cut"
   ]
  },
  {
   "cell_type": "code",
   "execution_count": null,
   "metadata": {},
   "outputs": [],
   "source": [
    "for i in stimulus_class:\n",
    "    for idx, ii in enumerate(subject_list):\n",
    "        print(i)\n",
    "        print(ii)\n",
    "        wt, corrs, valphas, allRcorrs, all_corrs_shuff = strf_features(ii, i, data_dir, full_gabor = False, full_audio_spec = False, \n",
    "            full_model = False, pitchUenvs = False, pitchUphnfeat = False, envsUphnfeat = False, phnfeat_only = False, envs_only = False, \n",
    "            pitch_only = False, gabor_only = False, spec = False, pitchphnfeatspec = False, binned_pitch_full_audio = False, binned_pitch_envs=False, \n",
    "            binned_pitch_phnfeat=False, binned_pitch_full_audiovisual=False, binned_pitch_only=False, pitchUspec=False, phnfeatUspec=False, \n",
    "            spec_scaled=False, pitchphnfeatspec_scaled=False, scene_cut=False, scene_cut_gaborpc=False, audiovisual_gabor_sc=True,\n",
    "            binned_pitch_spec_phnfeat=False, spec_binned_pitch=False, full_gabor_sc=False)"
   ]
  },
  {
   "cell_type": "markdown",
   "metadata": {},
   "source": [
    "Spectrogram + binned pitch + phonological features"
   ]
  },
  {
   "cell_type": "code",
   "execution_count": null,
   "metadata": {},
   "outputs": [],
   "source": [
    "for i in stimulus_class:\n",
    "    for idx, ii in enumerate(subject_list):\n",
    "        print(i)\n",
    "        print(ii)\n",
    "        wt, corrs, valphas, allRcorrs, all_corrs_shuff = strf_features(ii, i, data_dir, full_gabor = False, full_audio_spec = False, \n",
    "            full_model = False, pitchUenvs = False, pitchUphnfeat = False, envsUphnfeat = False, phnfeat_only = False, envs_only = False, \n",
    "            pitch_only = False, gabor_only = False, spec = False, pitchphnfeatspec = False, binned_pitch_full_audio = False, binned_pitch_envs=False, \n",
    "            binned_pitch_phnfeat=False, binned_pitch_full_audiovisual=False, binned_pitch_only=False, pitchUspec=False, phnfeatUspec=False, \n",
    "            spec_scaled=False, pitchphnfeatspec_scaled=False, scene_cut=False, scene_cut_gaborpc=False, audiovisual_gabor_sc=False,\n",
    "            binned_pitch_spec_phnfeat=True, spec_binned_pitch=False, full_gabor_sc=False)"
   ]
  },
  {
   "cell_type": "markdown",
   "metadata": {},
   "source": [
    "### Pairwise models"
   ]
  },
  {
   "cell_type": "markdown",
   "metadata": {},
   "source": [
    "Binned pitch + phonological features"
   ]
  },
  {
   "cell_type": "code",
   "execution_count": null,
   "metadata": {},
   "outputs": [],
   "source": [
    "for i in stimulus_class:\n",
    "    for idx, ii in enumerate(subject_list):\n",
    "        print(i)\n",
    "        print(ii)\n",
    "        wt, corrs, valphas, allRcorrs, all_corrs_shuff = strf_features(ii, i, data_dir, full_gabor = False, full_audio_spec = False, \n",
    "            full_model = False, pitchUenvs = False, pitchUphnfeat = False, envsUphnfeat = False, phnfeat_only = False, envs_only = False, \n",
    "            pitch_only = False, gabor_only = False, spec = False, pitchphnfeatspec = False, binned_pitch_full_audio = False, binned_pitch_envs=False, \n",
    "            binned_pitch_phnfeat=True, binned_pitch_full_audiovisual=False, binned_pitch_only=False, pitchUspec=False, phnfeatUspec=False, \n",
    "            spec_scaled=False, pitchphnfeatspec_scaled=False, scene_cut=False, scene_cut_gaborpc=False, audiovisual_gabor_sc=False,\n",
    "            binned_pitch_spec_phnfeat=False, spec_binned_pitch=False, full_gabor_sc=False)"
   ]
  },
  {
   "cell_type": "markdown",
   "metadata": {},
   "source": [
    "Binned pitch + acoustic envelope"
   ]
  },
  {
   "cell_type": "code",
   "execution_count": null,
   "metadata": {},
   "outputs": [],
   "source": [
    "for i in stimulus_class:\n",
    "    for idx, ii in enumerate(subject_list):\n",
    "        print(i)\n",
    "        print(ii)\n",
    "        wt, corrs, valphas, allRcorrs, all_corrs_shuff = strf_features(ii, i, data_dir, full_gabor = False, full_audio_spec = False, \n",
    "            full_model = False, pitchUenvs = False, pitchUphnfeat = False, envsUphnfeat = False, phnfeat_only = False, envs_only = False, \n",
    "            pitch_only = False, gabor_only = False, spec = False, pitchphnfeatspec = False, binned_pitch_full_audio = False, binned_pitch_envs=True, \n",
    "            binned_pitch_phnfeat=False, binned_pitch_full_audiovisual=False, binned_pitch_only=False, pitchUspec=False, phnfeatUspec=False, \n",
    "            spec_scaled=False, pitchphnfeatspec_scaled=False, scene_cut=False, scene_cut_gaborpc=False, audiovisual_gabor_sc=False,\n",
    "            binned_pitch_spec_phnfeat=False, spec_binned_pitch=False, full_gabor_sc=False)"
   ]
  },
  {
   "cell_type": "markdown",
   "metadata": {},
   "source": [
    "Binned pitch + spectrogram"
   ]
  },
  {
   "cell_type": "code",
   "execution_count": null,
   "metadata": {},
   "outputs": [],
   "source": [
    "for i in stimulus_class:\n",
    "    for idx, ii in enumerate(subject_list):\n",
    "        print(i)\n",
    "        print(ii)\n",
    "        wt, corrs, valphas, allRcorrs, all_corrs_shuff = strf_features(ii, i, data_dir, full_gabor = False, full_audio_spec = False, \n",
    "            full_model = False, pitchUenvs = False, pitchUphnfeat = False, envsUphnfeat = False, phnfeat_only = False, envs_only = False, \n",
    "            pitch_only = False, gabor_only = False, spec = False, pitchphnfeatspec = False, binned_pitch_full_audio = False, binned_pitch_envs=True, \n",
    "            binned_pitch_phnfeat=False, binned_pitch_full_audiovisual=False, binned_pitch_only=False, pitchUspec=False, phnfeatUspec=False, \n",
    "            spec_scaled=False, pitchphnfeatspec_scaled=False, scene_cut=False, scene_cut_gaborpc=False, audiovisual_gabor_sc=False,\n",
    "            binned_pitch_spec_phnfeat=False, spec_binned_pitch=False, full_gabor_sc=False)"
   ]
  },
  {
   "cell_type": "markdown",
   "metadata": {},
   "source": [
    "### Individual Models"
   ]
  },
  {
   "cell_type": "markdown",
   "metadata": {},
   "source": [
    "binned pitch "
   ]
  },
  {
   "cell_type": "code",
   "execution_count": null,
   "metadata": {},
   "outputs": [],
   "source": [
    "for i in stimulus_class:\n",
    "    for idx, ii in enumerate(subject_list):\n",
    "        print(i)\n",
    "        print(ii)\n",
    "        wt, corrs, valphas, allRcorrs, all_corrs_shuff = strf_features(ii, i, data_dir, full_gabor = False, full_audio_spec = False, \n",
    "            full_model = False, pitchUenvs = False, pitchUphnfeat = False, envsUphnfeat = False, phnfeat_only = False, envs_only = False, \n",
    "            pitch_only = False, gabor_only = False, spec = False, pitchphnfeatspec = False, binned_pitch_full_audio = False, binned_pitch_envs=False, \n",
    "            binned_pitch_phnfeat=False, binned_pitch_full_audiovisual=False, binned_pitch_only=True, pitchUspec=False, phnfeatUspec=False, \n",
    "            spec_scaled=False, pitchphnfeatspec_scaled=False, scene_cut=False, scene_cut_gaborpc=False, audiovisual_gabor_sc=False,\n",
    "            binned_pitch_spec_phnfeat=False, spec_binned_pitch=False, full_gabor_sc=False)"
   ]
  },
  {
   "cell_type": "code",
   "execution_count": null,
   "metadata": {},
   "outputs": [],
   "source": []
  }
 ],
 "metadata": {
  "kernelspec": {
   "display_name": "Python 3",
   "language": "python",
   "name": "python3"
  },
  "language_info": {
   "codemirror_mode": {
    "name": "ipython",
    "version": 3
   },
   "file_extension": ".py",
   "mimetype": "text/x-python",
   "name": "python",
   "nbconvert_exporter": "python",
   "pygments_lexer": "ipython3",
   "version": "3.6.6"
  }
 },
 "nbformat": 4,
 "nbformat_minor": 5
}
