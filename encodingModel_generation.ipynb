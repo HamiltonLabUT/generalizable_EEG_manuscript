{
 "cells": [
  {
   "cell_type": "code",
   "execution_count": 1,
   "id": "8b129748",
   "metadata": {},
   "outputs": [],
   "source": [
    "from run_STRF_analysis import *\n",
    "%matplotlib inline\n",
    "%config InlineBackend.figure_format = 'retina'\n"
   ]
  },
  {
   "cell_type": "code",
   "execution_count": null,
   "id": "0e558bea",
   "metadata": {},
   "outputs": [],
   "source": [
    "user = 'maansidesai'\n",
    "data_dir='/Users/%s/Box/MovieTrailersTask/Data/EEG/Participants' %(user) #where the giant .h5 file lives (fullEEGmatrix.h5)\n",
    "data_dir = os.path.abspath('../data')\n",
    "\n",
    "subject_list = create_subject_list(data_dir+'/participants') #create subject list of all participant folders (MT0001-MT0017)"
   ]
  },
  {
   "cell_type": "code",
   "execution_count": null,
   "id": "80624c7c",
   "metadata": {},
   "outputs": [],
   "source": [
    "stimulus_class = ['MovieTrailers', 'TIMIT']"
   ]
  },
  {
   "cell_type": "markdown",
   "id": "1b260f96",
   "metadata": {},
   "source": [
    "# The next many cells below will fit an encoding model using the specified auditory and/or visual features either as a combination, in pairwise models, or individual models\n",
    "\n",
    "## To run the desired cell, simply click on the cell and push command + shift \n",
    "## To run all cells in this notebook, click \"Run\" at the top of this page in toolbar"
   ]
  },
  {
   "cell_type": "markdown",
   "id": "176466e1",
   "metadata": {},
   "source": [
    "### Fitting \"full models\" which essentially are the largest combinations of auditory features or auditory + visual features\n",
    "(The first number of cells use the following features for the main manuscript: F0, envelope, 14 phonological features, 10 gabor wavelet filters, scene cut. See below for models used in the Extended Data section of the manuscript)"
   ]
  },
  {
   "cell_type": "markdown",
   "id": "7560c1c2",
   "metadata": {},
   "source": [
    "### Full Models: audiovisual model and auditory model\n",
    "This includes: pitch (F0), acoustic envelope, 14 phonological features as the acoustic features, and 10 gabor wavelet filters + 1 scene cut as the visual features"
   ]
  },
  {
   "cell_type": "code",
   "execution_count": null,
   "id": "63ba9e00",
   "metadata": {},
   "outputs": [],
   "source": [
    "for i in stimulus_class:\n",
    "    for idx, ii in enumerate(subject_list):\n",
    "        print(i)\n",
    "        print(ii)\n",
    "        wt, corrs, valphas, allRcorrs, all_corrs_shuff = strf_features(ii, i, data_dir, full_gabor = False, full_audio_spec = False, \n",
    "            full_model = False, pitchUenvs = False, pitchUphnfeat = False, envsUphnfeat = False, phnfeat_only = False, envs_only = False, \n",
    "            pitch_only = False, gabor_only = False, spec = False, pitchphnfeatspec = False, binned_pitch_full_audio = False, binned_pitch_envs=False, \n",
    "            binned_pitch_phnfeat=False, binned_pitch_full_audiovisual=False, binned_pitch_only=False, pitchUspec=False, phnfeatUspec=False, \n",
    "            spec_scaled=False, pitchphnfeatspec_scaled=False, scene_cut=False, scene_cut_gaborpc=False, audiovisual_gabor_sc=False,\n",
    "            binned_pitch_spec_phnfeat=False, spec_binned_pitch=False, full_gabor_sc=True)"
   ]
  },
  {
   "cell_type": "markdown",
   "id": "613fc568",
   "metadata": {},
   "source": [
    "Full: auditory model\n",
    "This includes: pitch (F0), acoustic envelope, 14 phonological features "
   ]
  },
  {
   "cell_type": "code",
   "execution_count": null,
   "id": "20e1d54e",
   "metadata": {},
   "outputs": [],
   "source": [
    "for i in stimulus_class:\n",
    "    for idx, ii in enumerate(subject_list):\n",
    "        print(i)\n",
    "        print(ii)\n",
    "        wt, corrs, valphas, allRcorrs, all_corrs_shuff = strf_features(ii, i, data_dir, full_gabor = False, full_audio_spec = False, \n",
    "            full_model = True, pitchUenvs = False, pitchUphnfeat = False, envsUphnfeat = False, phnfeat_only = False, envs_only = False, \n",
    "            pitch_only = False, gabor_only = False, spec = False, pitchphnfeatspec = False, binned_pitch_full_audio = False, binned_pitch_envs=False, \n",
    "            binned_pitch_phnfeat=False, binned_pitch_full_audiovisual=False, binned_pitch_only=False, pitchUspec=False, phnfeatUspec=False, \n",
    "            spec_scaled=False, pitchphnfeatspec_scaled=False, scene_cut=False, scene_cut_gaborpc=False, audiovisual_gabor_sc=False,\n",
    "            binned_pitch_spec_phnfeat=False, spec_binned_pitch=False, full_gabor_sc=False)"
   ]
  },
  {
   "cell_type": "markdown",
   "id": "6bea8c72",
   "metadata": {},
   "source": [
    "### Pairwise models...\n",
    "\n",
    "First, pitch + acoustic envelope"
   ]
  },
  {
   "cell_type": "code",
   "execution_count": null,
   "id": "5814472d",
   "metadata": {},
   "outputs": [],
   "source": [
    "for i in stimulus_class:\n",
    "    for idx, ii in enumerate(subject_list):\n",
    "        print(i)\n",
    "        print(ii)\n",
    "        wt, corrs, valphas, allRcorrs, all_corrs_shuff = strf_features(ii, i, data_dir, full_gabor = False, full_audio_spec = False, \n",
    "            full_model = False, pitchUenvs = True, pitchUphnfeat = False, envsUphnfeat = False, phnfeat_only = False, envs_only = False, \n",
    "            pitch_only = False, gabor_only = False, spec = False, pitchphnfeatspec = False, binned_pitch_full_audio = False, binned_pitch_envs=False, \n",
    "            binned_pitch_phnfeat=False, binned_pitch_full_audiovisual=False, binned_pitch_only=False, pitchUspec=False, phnfeatUspec=False, \n",
    "            spec_scaled=False, pitchphnfeatspec_scaled=False, scene_cut=False, scene_cut_gaborpc=False, audiovisual_gabor_sc=False,\n",
    "            binned_pitch_spec_phnfeat=False, spec_binned_pitch=False, full_gabor_sc=False)"
   ]
  },
  {
   "cell_type": "markdown",
   "id": "8df43178",
   "metadata": {},
   "source": [
    "Pitch + phonological features"
   ]
  },
  {
   "cell_type": "code",
   "execution_count": null,
   "id": "6529e8d1",
   "metadata": {},
   "outputs": [],
   "source": [
    "for i in stimulus_class:\n",
    "    for idx, ii in enumerate(subject_list):\n",
    "        print(i)\n",
    "        print(ii)\n",
    "        wt, corrs, valphas, allRcorrs, all_corrs_shuff = strf_features(ii, i, data_dir, full_gabor = False, full_audio_spec = False, \n",
    "            full_model = False, pitchUenvs = False, pitchUphnfeat = True, envsUphnfeat = False, phnfeat_only = False, envs_only = False, \n",
    "            pitch_only = False, gabor_only = False, spec = False, pitchphnfeatspec = False, binned_pitch_full_audio = False, binned_pitch_envs=False, \n",
    "            binned_pitch_phnfeat=False, binned_pitch_full_audiovisual=False, binned_pitch_only=False, pitchUspec=False, phnfeatUspec=False, \n",
    "            spec_scaled=False, pitchphnfeatspec_scaled=False, scene_cut=False, scene_cut_gaborpc=False, audiovisual_gabor_sc=False,\n",
    "            binned_pitch_spec_phnfeat=False, spec_binned_pitch=False, full_gabor_sc=False)"
   ]
  },
  {
   "cell_type": "markdown",
   "id": "d6f78ab6",
   "metadata": {},
   "source": [
    "Acoustic envelope + phonological features"
   ]
  },
  {
   "cell_type": "code",
   "execution_count": null,
   "id": "59b51580",
   "metadata": {},
   "outputs": [],
   "source": [
    "for i in stimulus_class:\n",
    "    for idx, ii in enumerate(subject_list):\n",
    "        print(i)\n",
    "        print(ii)\n",
    "        wt, corrs, valphas, allRcorrs, all_corrs_shuff = strf_features(ii, i, data_dir, full_gabor = False, full_audio_spec = False, \n",
    "            full_model = False, pitchUenvs = False, pitchUphnfeat = False, envsUphnfeat = True, phnfeat_only = False, envs_only = False, \n",
    "            pitch_only = False, gabor_only = False, spec = False, pitchphnfeatspec = False, binned_pitch_full_audio = False, binned_pitch_envs=False, \n",
    "            binned_pitch_phnfeat=False, binned_pitch_full_audiovisual=False, binned_pitch_only=False, pitchUspec=False, phnfeatUspec=False, \n",
    "            spec_scaled=False, pitchphnfeatspec_scaled=False, scene_cut=False, scene_cut_gaborpc=False, audiovisual_gabor_sc=False,\n",
    "            binned_pitch_spec_phnfeat=False, spec_binned_pitch=False, full_gabor_sc=False)"
   ]
  },
  {
   "cell_type": "markdown",
   "id": "b523f9d3",
   "metadata": {},
   "source": [
    "Scene Cuts + Gabor wavelet filters"
   ]
  },
  {
   "cell_type": "code",
   "execution_count": null,
   "id": "ce8f4a03",
   "metadata": {},
   "outputs": [],
   "source": [
    "for i in stimulus_class:\n",
    "    for idx, ii in enumerate(subject_list):\n",
    "        print(i)\n",
    "        print(ii)\n",
    "        wt, corrs, valphas, allRcorrs, all_corrs_shuff = strf_features(ii, i, data_dir, full_gabor = False, full_audio_spec = False, \n",
    "            full_model = False, pitchUenvs = False, pitchUphnfeat = False, envsUphnfeat = False, phnfeat_only = False, envs_only = False, \n",
    "            pitch_only = False, gabor_only = False, spec = False, pitchphnfeatspec = False, binned_pitch_full_audio = False, binned_pitch_envs=False, \n",
    "            binned_pitch_phnfeat=False, binned_pitch_full_audiovisual=False, binned_pitch_only=False, pitchUspec=False, phnfeatUspec=False, \n",
    "            spec_scaled=False, pitchphnfeatspec_scaled=False, scene_cut=False, scene_cut_gaborpc=True, audiovisual_gabor_sc=False,\n",
    "            binned_pitch_spec_phnfeat=False, spec_binned_pitch=False, full_gabor_sc=False)"
   ]
  },
  {
   "cell_type": "markdown",
   "id": "8aa9b27d",
   "metadata": {},
   "source": [
    "### Individual feature (auditory or visual) models"
   ]
  },
  {
   "cell_type": "markdown",
   "id": "cc74b523",
   "metadata": {},
   "source": [
    "Phonological Features"
   ]
  },
  {
   "cell_type": "code",
   "execution_count": null,
   "id": "2a0a0e90",
   "metadata": {},
   "outputs": [],
   "source": [
    "for i in stimulus_class:\n",
    "    for idx, ii in enumerate(subject_list):\n",
    "        print(i)\n",
    "        print(ii)\n",
    "        wt, corrs, valphas, allRcorrs, all_corrs_shuff = strf_features(ii, i, data_dir, full_gabor = False, full_audio_spec = False, \n",
    "            full_model = False, pitchUenvs = False, pitchUphnfeat = False, envsUphnfeat = False, phnfeat_only = True, envs_only = False, \n",
    "            pitch_only = False, gabor_only = False, spec = False, pitchphnfeatspec = False, binned_pitch_full_audio = False, binned_pitch_envs=False, \n",
    "            binned_pitch_phnfeat=False, binned_pitch_full_audiovisual=False, binned_pitch_only=False, pitchUspec=False, phnfeatUspec=False, \n",
    "            spec_scaled=False, pitchphnfeatspec_scaled=False, scene_cut=False, scene_cut_gaborpc=False, audiovisual_gabor_sc=False,\n",
    "            binned_pitch_spec_phnfeat=False, spec_binned_pitch=False, full_gabor_sc=False)"
   ]
  },
  {
   "cell_type": "markdown",
   "id": "65ab1314",
   "metadata": {},
   "source": [
    "Acoustic Envelope"
   ]
  },
  {
   "cell_type": "code",
   "execution_count": null,
   "id": "e0deca6c",
   "metadata": {},
   "outputs": [],
   "source": [
    "for i in stimulus_class:\n",
    "    for idx, ii in enumerate(subject_list):\n",
    "        print(i)\n",
    "        print(ii)\n",
    "        wt, corrs, valphas, allRcorrs, all_corrs_shuff = strf_features(ii, i, data_dir, full_gabor = False, full_audio_spec = False, \n",
    "            full_model = False, pitchUenvs = False, pitchUphnfeat = False, envsUphnfeat = False, phnfeat_only = False, envs_only = True, \n",
    "            pitch_only = False, gabor_only = False, spec = False, pitchphnfeatspec = False, binned_pitch_full_audio = False, binned_pitch_envs=False, \n",
    "            binned_pitch_phnfeat=False, binned_pitch_full_audiovisual=False, binned_pitch_only=False, pitchUspec=False, phnfeatUspec=False, \n",
    "            spec_scaled=False, pitchphnfeatspec_scaled=False, scene_cut=False, scene_cut_gaborpc=False, audiovisual_gabor_sc=False,\n",
    "            binned_pitch_spec_phnfeat=False, spec_binned_pitch=False, full_gabor_sc=False)"
   ]
  },
  {
   "cell_type": "markdown",
   "id": "63bdeefd",
   "metadata": {},
   "source": [
    "Pitch (F0)"
   ]
  },
  {
   "cell_type": "code",
   "execution_count": null,
   "id": "8745de32",
   "metadata": {},
   "outputs": [],
   "source": [
    "for i in stimulus_class:\n",
    "    for idx, ii in enumerate(subject_list):\n",
    "        print(i)\n",
    "        print(ii)\n",
    "        wt, corrs, valphas, allRcorrs, all_corrs_shuff = strf_features(ii, i, data_dir, full_gabor = False, full_audio_spec = False, \n",
    "            full_model = False, pitchUenvs = False, pitchUphnfeat = False, envsUphnfeat = False, phnfeat_only = True, envs_only = False, \n",
    "            pitch_only = True, gabor_only = False, spec = False, pitchphnfeatspec = False, binned_pitch_full_audio = False, binned_pitch_envs=False, \n",
    "            binned_pitch_phnfeat=False, binned_pitch_full_audiovisual=False, binned_pitch_only=False, pitchUspec=False, phnfeatUspec=False, \n",
    "            spec_scaled=False, pitchphnfeatspec_scaled=False, scene_cut=False, scene_cut_gaborpc=False, audiovisual_gabor_sc=False,\n",
    "            binned_pitch_spec_phnfeat=False, spec_binned_pitch=False, full_gabor_sc=False)"
   ]
  },
  {
   "cell_type": "markdown",
   "id": "be633b81",
   "metadata": {},
   "source": [
    "Gabor only"
   ]
  },
  {
   "cell_type": "code",
   "execution_count": null,
   "id": "b118ce9e",
   "metadata": {},
   "outputs": [],
   "source": [
    "for i in stimulus_class:\n",
    "    for idx, ii in enumerate(subject_list):\n",
    "        print(i)\n",
    "        print(ii)\n",
    "        wt, corrs, valphas, allRcorrs, all_corrs_shuff = strf_features(ii, i, data_dir, full_gabor = False, full_audio_spec = False, \n",
    "            full_model = False, pitchUenvs = False, pitchUphnfeat = False, envsUphnfeat = False, phnfeat_only = False, envs_only = False, \n",
    "            pitch_only = False, gabor_only = True, spec = False, pitchphnfeatspec = False, binned_pitch_full_audio = False, binned_pitch_envs=False, \n",
    "            binned_pitch_phnfeat=False, binned_pitch_full_audiovisual=False, binned_pitch_only=False, pitchUspec=False, phnfeatUspec=False, \n",
    "            spec_scaled=False, pitchphnfeatspec_scaled=False, scene_cut=False, scene_cut_gaborpc=False, audiovisual_gabor_sc=False,\n",
    "            binned_pitch_spec_phnfeat=False, spec_binned_pitch=False, full_gabor_sc=False)"
   ]
  },
  {
   "cell_type": "markdown",
   "id": "5259a370",
   "metadata": {},
   "source": [
    "Scene Cut"
   ]
  },
  {
   "cell_type": "code",
   "execution_count": null,
   "id": "4fa6672d",
   "metadata": {},
   "outputs": [],
   "source": [
    "for i in stimulus_class:\n",
    "    for idx, ii in enumerate(subject_list):\n",
    "        print(i)\n",
    "        print(ii)\n",
    "        wt, corrs, valphas, allRcorrs, all_corrs_shuff = strf_features(ii, i, data_dir, full_gabor = False, full_audio_spec = False, \n",
    "            full_model = False, pitchUenvs = False, pitchUphnfeat = False, envsUphnfeat = False, phnfeat_only = alse, envs_only = False, \n",
    "            pitch_only = False, gabor_only = False, spec = False, pitchphnfeatspec = False, binned_pitch_full_audio = False, binned_pitch_envs=False, \n",
    "            binned_pitch_phnfeat=False, binned_pitch_full_audiovisual=False, binned_pitch_only=False, pitchUspec=False, phnfeatUspec=False, \n",
    "            spec_scaled=False, pitchphnfeatspec_scaled=False, scene_cut=True, scene_cut_gaborpc=False, audiovisual_gabor_sc=False,\n",
    "            binned_pitch_spec_phnfeat=False, spec_binned_pitch=False, full_gabor_sc=False)"
   ]
  },
  {
   "cell_type": "markdown",
   "id": "db926b3b",
   "metadata": {},
   "source": [
    "## Extended Data Models "
   ]
  },
  {
   "cell_type": "markdown",
   "id": "1eececdd",
   "metadata": {},
   "source": [
    "### Full: auditory model "
   ]
  },
  {
   "cell_type": "markdown",
   "id": "c15bc67b",
   "metadata": {},
   "source": [
    "This includes: pitch (F0), 14 phonological features, and 15 spectrogram features"
   ]
  },
  {
   "cell_type": "code",
   "execution_count": null,
   "id": "37fbd2cd",
   "metadata": {},
   "outputs": [],
   "source": [
    "for i in stimulus_class:\n",
    "    for idx, ii in enumerate(subject_list):\n",
    "        print(i)\n",
    "        print(ii)\n",
    "        wt, corrs, valphas, allRcorrs, all_corrs_shuff = strf_features(ii, i, data_dir, full_gabor = False, full_audio_spec = True, \n",
    "            full_model = False, pitchUenvs = False, pitchUphnfeat = False, envsUphnfeat = False, phnfeat_only = False, envs_only = False, \n",
    "            pitch_only = False, gabor_only = False, spec = False, pitchphnfeatspec = False, binned_pitch_full_audio = False, binned_pitch_envs=False, \n",
    "            binned_pitch_phnfeat=False, binned_pitch_full_audiovisual=False, binned_pitch_only=False, pitchUspec=False, phnfeatUspec=False, \n",
    "            spec_scaled=False, pitchphnfeatspec_scaled=False, scene_cut=False, scene_cut_gaborpc=False, audiovisual_gabor_sc=False,\n",
    "            binned_pitch_spec_phnfeat=False, spec_binned_pitch=False, full_gabor_sc=False)"
   ]
  },
  {
   "cell_type": "markdown",
   "id": "3c64d766",
   "metadata": {},
   "source": [
    "### Pairwise models "
   ]
  },
  {
   "cell_type": "markdown",
   "id": "db295a2b",
   "metadata": {},
   "source": [
    "Phonological features + Spectrogram"
   ]
  },
  {
   "cell_type": "code",
   "execution_count": null,
   "id": "9adc3299",
   "metadata": {},
   "outputs": [],
   "source": [
    "for i in stimulus_class:\n",
    "    for idx, ii in enumerate(subject_list):\n",
    "        print(i)\n",
    "        print(ii)\n",
    "        wt, corrs, valphas, allRcorrs, all_corrs_shuff = strf_features(ii, i, data_dir, full_gabor = False, full_audio_spec = False, \n",
    "            full_model = False, pitchUenvs = False, pitchUphnfeat = False, envsUphnfeat = False, phnfeat_only = False, envs_only = False, \n",
    "            pitch_only = False, gabor_only = False, spec = False, pitchphnfeatspec = False, binned_pitch_full_audio = False, binned_pitch_envs=False, \n",
    "            binned_pitch_phnfeat=False, binned_pitch_full_audiovisual=False, binned_pitch_only=False, pitchUspec=False, phnfeatUspec=True, \n",
    "            spec_scaled=False, pitchphnfeatspec_scaled=False, scene_cut=False, scene_cut_gaborpc=False, audiovisual_gabor_sc=False,\n",
    "            binned_pitch_spec_phnfeat=False, spec_binned_pitch=False, full_gabor_sc=False)"
   ]
  },
  {
   "cell_type": "markdown",
   "id": "e78c899f",
   "metadata": {},
   "source": [
    "Pitch (F0) + Spectrogram"
   ]
  },
  {
   "cell_type": "code",
   "execution_count": null,
   "id": "cfb19296",
   "metadata": {},
   "outputs": [],
   "source": [
    "for i in stimulus_class:\n",
    "    for idx, ii in enumerate(subject_list):\n",
    "        print(i)\n",
    "        print(ii)\n",
    "        wt, corrs, valphas, allRcorrs, all_corrs_shuff = strf_features(ii, i, data_dir, full_gabor = False, full_audio_spec = False, \n",
    "            full_model = False, pitchUenvs = False, pitchUphnfeat = False, envsUphnfeat = False, phnfeat_only = False, envs_only = False, \n",
    "            pitch_only = False, gabor_only = False, spec = False, pitchphnfeatspec = False, binned_pitch_full_audio = False, binned_pitch_envs=False, \n",
    "            binned_pitch_phnfeat=False, binned_pitch_full_audiovisual=False, binned_pitch_only=False, pitchUspec=True, phnfeatUspec=False, \n",
    "            spec_scaled=False, pitchphnfeatspec_scaled=False, scene_cut=False, scene_cut_gaborpc=False, audiovisual_gabor_sc=False,\n",
    "            binned_pitch_spec_phnfeat=False, spec_binned_pitch=False, full_gabor_sc=False)"
   ]
  },
  {
   "cell_type": "markdown",
   "id": "e7fc73f1",
   "metadata": {},
   "source": [
    "### Individual Model"
   ]
  },
  {
   "cell_type": "markdown",
   "id": "d85c7091",
   "metadata": {},
   "source": [
    "Spectrogram only"
   ]
  },
  {
   "cell_type": "code",
   "execution_count": null,
   "id": "0df6da97",
   "metadata": {},
   "outputs": [],
   "source": [
    "for i in stimulus_class:\n",
    "    for idx, ii in enumerate(subject_list):\n",
    "        print(i)\n",
    "        print(ii)\n",
    "        wt, corrs, valphas, allRcorrs, all_corrs_shuff = strf_features(ii, i, data_dir, full_gabor = False, full_audio_spec = False, \n",
    "            full_model = False, pitchUenvs = False, pitchUphnfeat = False, envsUphnfeat = False, phnfeat_only = False, envs_only = False, \n",
    "            pitch_only = False, gabor_only = False, spec = True, pitchphnfeatspec = False, binned_pitch_full_audio = False, binned_pitch_envs=False, \n",
    "            binned_pitch_phnfeat=False, binned_pitch_full_audiovisual=False, binned_pitch_only=False, pitchUspec=False, phnfeatUspec=False, \n",
    "            spec_scaled=False, pitchphnfeatspec_scaled=False, scene_cut=False, scene_cut_gaborpc=False, audiovisual_gabor_sc=False,\n",
    "            binned_pitch_spec_phnfeat=False, spec_binned_pitch=False, full_gabor_sc=False)"
   ]
  },
  {
   "cell_type": "markdown",
   "id": "7d5c171f",
   "metadata": {},
   "source": [
    "## As a part of the manuscript, for both the main figures as well as the extended data figures, we used a single pitch feature (absolute pitch or F0). However, we also fit models on **binned representations of the pitch** by extracting 10 log-spaced bins from 50 to 300Hz. Ultimately, we used the F0 pitch feature as a regressor to our encoding models instead of the binned pitch because we found that the single feature yielded higher correlation values. However, as a part of this code, you can also run the cells to extract the binned features as an individual features, for pairwise features, as well as full auditory or audiovisual models"
   ]
  },
  {
   "cell_type": "markdown",
   "id": "f6329f84",
   "metadata": {},
   "source": [
    "### Full auditory model using 10 binned pitch features"
   ]
  },
  {
   "cell_type": "markdown",
   "id": "709014d2",
   "metadata": {},
   "source": [
    "10 binned pitches + acoustic envelope + 14 phonological features"
   ]
  },
  {
   "cell_type": "code",
   "execution_count": null,
   "id": "886a7a2c",
   "metadata": {},
   "outputs": [],
   "source": [
    "for i in stimulus_class:\n",
    "    for idx, ii in enumerate(subject_list):\n",
    "        print(i)\n",
    "        print(ii)\n",
    "        wt, corrs, valphas, allRcorrs, all_corrs_shuff = strf_features(ii, i, data_dir, full_gabor = False, full_audio_spec = False, \n",
    "            full_model = False, pitchUenvs = False, pitchUphnfeat = False, envsUphnfeat = False, phnfeat_only = False, envs_only = False, \n",
    "            pitch_only = False, gabor_only = False, spec = False, pitchphnfeatspec = False, binned_pitch_full_audio = True, binned_pitch_envs=False, \n",
    "            binned_pitch_phnfeat=False, binned_pitch_full_audiovisual=False, binned_pitch_only=False, pitchUspec=False, phnfeatUspec=False, \n",
    "            spec_scaled=False, pitchphnfeatspec_scaled=False, scene_cut=False, scene_cut_gaborpc=False, audiovisual_gabor_sc=False,\n",
    "            binned_pitch_spec_phnfeat=False, spec_binned_pitch=False, full_gabor_sc=False)"
   ]
  },
  {
   "cell_type": "markdown",
   "id": "28694758",
   "metadata": {},
   "source": [
    "10 binned pitches + acoustic envelope + 14 phonological features + 10 gabor wavelets + scene cut"
   ]
  },
  {
   "cell_type": "code",
   "execution_count": null,
   "id": "168f15c3",
   "metadata": {},
   "outputs": [],
   "source": [
    "for i in stimulus_class:\n",
    "    for idx, ii in enumerate(subject_list):\n",
    "        print(i)\n",
    "        print(ii)\n",
    "        wt, corrs, valphas, allRcorrs, all_corrs_shuff = strf_features(ii, i, data_dir, full_gabor = False, full_audio_spec = False, \n",
    "            full_model = False, pitchUenvs = False, pitchUphnfeat = False, envsUphnfeat = False, phnfeat_only = False, envs_only = False, \n",
    "            pitch_only = False, gabor_only = False, spec = False, pitchphnfeatspec = False, binned_pitch_full_audio = False, binned_pitch_envs=False, \n",
    "            binned_pitch_phnfeat=False, binned_pitch_full_audiovisual=False, binned_pitch_only=False, pitchUspec=False, phnfeatUspec=False, \n",
    "            spec_scaled=False, pitchphnfeatspec_scaled=False, scene_cut=False, scene_cut_gaborpc=False, audiovisual_gabor_sc=True,\n",
    "            binned_pitch_spec_phnfeat=False, spec_binned_pitch=False, full_gabor_sc=False)"
   ]
  },
  {
   "cell_type": "markdown",
   "id": "5932562c",
   "metadata": {},
   "source": [
    "Spectrogram + binned pitch + phonological features"
   ]
  },
  {
   "cell_type": "code",
   "execution_count": null,
   "id": "5c097582",
   "metadata": {},
   "outputs": [],
   "source": [
    "for i in stimulus_class:\n",
    "    for idx, ii in enumerate(subject_list):\n",
    "        print(i)\n",
    "        print(ii)\n",
    "        wt, corrs, valphas, allRcorrs, all_corrs_shuff = strf_features(ii, i, data_dir, full_gabor = False, full_audio_spec = False, \n",
    "            full_model = False, pitchUenvs = False, pitchUphnfeat = False, envsUphnfeat = False, phnfeat_only = False, envs_only = False, \n",
    "            pitch_only = False, gabor_only = False, spec = False, pitchphnfeatspec = False, binned_pitch_full_audio = False, binned_pitch_envs=False, \n",
    "            binned_pitch_phnfeat=False, binned_pitch_full_audiovisual=False, binned_pitch_only=False, pitchUspec=False, phnfeatUspec=False, \n",
    "            spec_scaled=False, pitchphnfeatspec_scaled=False, scene_cut=False, scene_cut_gaborpc=False, audiovisual_gabor_sc=False,\n",
    "            binned_pitch_spec_phnfeat=True, spec_binned_pitch=False, full_gabor_sc=False)"
   ]
  },
  {
   "cell_type": "markdown",
   "id": "af92e861",
   "metadata": {},
   "source": [
    "### Pairwise models"
   ]
  },
  {
   "cell_type": "markdown",
   "id": "a015a957",
   "metadata": {},
   "source": [
    "Binned pitch + phonological features"
   ]
  },
  {
   "cell_type": "code",
   "execution_count": null,
   "id": "dd4a4351",
   "metadata": {},
   "outputs": [],
   "source": [
    "for i in stimulus_class:\n",
    "    for idx, ii in enumerate(subject_list):\n",
    "        print(i)\n",
    "        print(ii)\n",
    "        wt, corrs, valphas, allRcorrs, all_corrs_shuff = strf_features(ii, i, data_dir, full_gabor = False, full_audio_spec = False, \n",
    "            full_model = False, pitchUenvs = False, pitchUphnfeat = False, envsUphnfeat = False, phnfeat_only = False, envs_only = False, \n",
    "            pitch_only = False, gabor_only = False, spec = False, pitchphnfeatspec = False, binned_pitch_full_audio = False, binned_pitch_envs=False, \n",
    "            binned_pitch_phnfeat=True, binned_pitch_full_audiovisual=False, binned_pitch_only=False, pitchUspec=False, phnfeatUspec=False, \n",
    "            spec_scaled=False, pitchphnfeatspec_scaled=False, scene_cut=False, scene_cut_gaborpc=False, audiovisual_gabor_sc=False,\n",
    "            binned_pitch_spec_phnfeat=False, spec_binned_pitch=False, full_gabor_sc=False)"
   ]
  },
  {
   "cell_type": "markdown",
   "id": "1cf34cfe",
   "metadata": {},
   "source": [
    "Binned pitch + acoustic envelope"
   ]
  },
  {
   "cell_type": "code",
   "execution_count": null,
   "id": "cc60652c",
   "metadata": {},
   "outputs": [],
   "source": [
    "for i in stimulus_class:\n",
    "    for idx, ii in enumerate(subject_list):\n",
    "        print(i)\n",
    "        print(ii)\n",
    "        wt, corrs, valphas, allRcorrs, all_corrs_shuff = strf_features(ii, i, data_dir, full_gabor = False, full_audio_spec = False, \n",
    "            full_model = False, pitchUenvs = False, pitchUphnfeat = False, envsUphnfeat = False, phnfeat_only = False, envs_only = False, \n",
    "            pitch_only = False, gabor_only = False, spec = False, pitchphnfeatspec = False, binned_pitch_full_audio = False, binned_pitch_envs=True, \n",
    "            binned_pitch_phnfeat=False, binned_pitch_full_audiovisual=False, binned_pitch_only=False, pitchUspec=False, phnfeatUspec=False, \n",
    "            spec_scaled=False, pitchphnfeatspec_scaled=False, scene_cut=False, scene_cut_gaborpc=False, audiovisual_gabor_sc=False,\n",
    "            binned_pitch_spec_phnfeat=False, spec_binned_pitch=False, full_gabor_sc=False)"
   ]
  },
  {
   "cell_type": "markdown",
   "id": "593d89d7",
   "metadata": {},
   "source": [
    "Binned pitch + spectrogram"
   ]
  },
  {
   "cell_type": "code",
   "execution_count": null,
   "id": "8a0eef8c",
   "metadata": {},
   "outputs": [],
   "source": [
    "for i in stimulus_class:\n",
    "    for idx, ii in enumerate(subject_list):\n",
    "        print(i)\n",
    "        print(ii)\n",
    "        wt, corrs, valphas, allRcorrs, all_corrs_shuff = strf_features(ii, i, data_dir, full_gabor = False, full_audio_spec = False, \n",
    "            full_model = False, pitchUenvs = False, pitchUphnfeat = False, envsUphnfeat = False, phnfeat_only = False, envs_only = False, \n",
    "            pitch_only = False, gabor_only = False, spec = False, pitchphnfeatspec = False, binned_pitch_full_audio = False, binned_pitch_envs=True, \n",
    "            binned_pitch_phnfeat=False, binned_pitch_full_audiovisual=False, binned_pitch_only=False, pitchUspec=False, phnfeatUspec=False, \n",
    "            spec_scaled=False, pitchphnfeatspec_scaled=False, scene_cut=False, scene_cut_gaborpc=False, audiovisual_gabor_sc=False,\n",
    "            binned_pitch_spec_phnfeat=False, spec_binned_pitch=False, full_gabor_sc=False)"
   ]
  },
  {
   "cell_type": "markdown",
   "id": "05464864",
   "metadata": {},
   "source": [
    "### Individual Models"
   ]
  },
  {
   "cell_type": "markdown",
   "id": "78133464",
   "metadata": {},
   "source": [
    "binned pitch "
   ]
  },
  {
   "cell_type": "code",
   "execution_count": null,
   "id": "11c1563e",
   "metadata": {},
   "outputs": [],
   "source": [
    "for i in stimulus_class:\n",
    "    for idx, ii in enumerate(subject_list):\n",
    "        print(i)\n",
    "        print(ii)\n",
    "        wt, corrs, valphas, allRcorrs, all_corrs_shuff = strf_features(ii, i, data_dir, full_gabor = False, full_audio_spec = False, \n",
    "            full_model = False, pitchUenvs = False, pitchUphnfeat = False, envsUphnfeat = False, phnfeat_only = False, envs_only = False, \n",
    "            pitch_only = False, gabor_only = False, spec = False, pitchphnfeatspec = False, binned_pitch_full_audio = False, binned_pitch_envs=False, \n",
    "            binned_pitch_phnfeat=False, binned_pitch_full_audiovisual=False, binned_pitch_only=True, pitchUspec=False, phnfeatUspec=False, \n",
    "            spec_scaled=False, pitchphnfeatspec_scaled=False, scene_cut=False, scene_cut_gaborpc=False, audiovisual_gabor_sc=False,\n",
    "            binned_pitch_spec_phnfeat=False, spec_binned_pitch=False, full_gabor_sc=False)"
   ]
  },
  {
   "cell_type": "code",
   "execution_count": null,
   "id": "580bef13",
   "metadata": {},
   "outputs": [],
   "source": []
  }
 ],
 "metadata": {
  "kernelspec": {
   "display_name": "Python 3",
   "language": "python",
   "name": "python3"
  },
  "language_info": {
   "codemirror_mode": {
    "name": "ipython",
    "version": 3
   },
   "file_extension": ".py",
   "mimetype": "text/x-python",
   "name": "python",
   "nbconvert_exporter": "python",
   "pygments_lexer": "ipython3",
   "version": "3.9.4"
  }
 },
 "nbformat": 4,
 "nbformat_minor": 5
}
